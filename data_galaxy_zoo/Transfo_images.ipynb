{
 "cells": [
  {
   "cell_type": "code",
   "execution_count": 76,
   "metadata": {},
   "outputs": [],
   "source": [
    "import numpy as np\n",
    "import cv2\n",
    "import matplotlib.pyplot as plt\n",
    "import pandas as pd\n",
    "from pandas import read_csv"
   ]
  },
  {
   "cell_type": "code",
   "execution_count": 69,
   "metadata": {},
   "outputs": [],
   "source": [
    "def crop_resize_clean(path_picture):\n",
    "    print(path_picture)\n",
    "    #path = str(path_picture)\n",
    "    #print(path)\n",
    "    image = cv2.imread(path_picture)\n",
    "    #plt.imshow(image)\n",
    "    # Détection d'objet\n",
    "    img_grey = cv2.cvtColor(image, cv2.COLOR_RGB2GRAY)\n",
    "\n",
    "    ret, thresh = cv2.threshold(img_grey, thresh=40, maxval=255, type=0)\n",
    "    contours, hierarchy = cv2.findContours(thresh, 1, 2)\n",
    "\n",
    "    max_numb = 0\n",
    "    for contour in contours:\n",
    "        if len(contour) > max_numb:\n",
    "            max_numb = len(contour)\n",
    "            cnt = contour\n",
    "    rect = cv2.minAreaRect(cnt)\n",
    "    box = cv2.boxPoints(rect)\n",
    "    box = np.int0(box)\n",
    "    #print(box)\n",
    "    cv2.drawContours(image, [box], 0, (0, 0, 255), 2)\n",
    "\n",
    "    x,y,w,h = cv2.boundingRect(cnt)\n",
    "    cv2.rectangle(image, (x, y), (x+w, y+h), (255, 0, 0), 2)\n",
    "\n",
    "    # Rognage et redimensionnement autour de l'objet détecté\n",
    "\n",
    "    height = 106\n",
    "    width = 106\n",
    "    dim = (width, height)\n",
    "\n",
    "    img = cv2.imread(path_picture)\n",
    "    img_crop = img[y-int(h/2):y+int(3*h/2), x-int(w/3):x+int(4*w/3)]\n",
    "\n",
    "    resized = cv2.resize(img[y-int(h/2):y+int(3*h/2), x-int(w/3):x+int(4*w/3)], dim, interpolation=cv2.INTER_AREA)\n",
    "\n",
    "    # Nettoyage de l'image redimensionnée\n",
    "\n",
    "    blur = cv2.GaussianBlur(resized, (5, 5), 0)\n",
    "    gray = cv2.cvtColor(blur, cv2.COLOR_RGB2GRAY)\n",
    "    ret, thresh = cv2.threshold(gray, 0, 255, cv2.THRESH_OTSU)\n",
    "\n",
    "    ret, markers = cv2.connectedComponents(thresh)\n",
    "\n",
    "    #markers = markers + 1\n",
    "\n",
    "    markers = cv2.watershed(blur, markers)\n",
    "\n",
    "    center = markers[round(img_crop.shape[0]/2), round(img_crop.shape[1]/2)]\n",
    "\n",
    "    masque = np.array(markers)\n",
    "    blur2 = blur.copy()\n",
    "    masque[:,:] = 0\n",
    "    masque[markers == center] = 255\n",
    "\n",
    "    kernel = cv2.getStructuringElement(cv2.MORPH_ELLIPSE,(30,30))\n",
    "    masque = cv2.dilate(masque.astype(np.uint8), kernel, iterations = 1)\n",
    "    masque = cv2.blur(masque.astype(float), (5,5))\n",
    "\n",
    "    for i in range(3):\n",
    "        blur2[:,:,i] = (masque*blur[:,:,i]/255.0).astype(np.uint8)\n",
    "\n",
    "    return blur2"
   ]
  },
  {
   "cell_type": "code",
   "execution_count": 71,
   "metadata": {},
   "outputs": [
    {
     "name": "stdout",
     "output_type": "stream",
     "text": [
      "sample_class_2/208686.jpg\n"
     ]
    },
    {
     "data": {
      "text/plain": [
       "<matplotlib.image.AxesImage at 0x2623cfea4c8>"
      ]
     },
     "execution_count": 71,
     "metadata": {},
     "output_type": "execute_result"
    },
    {
     "data": {
      "image/png": "[encoded data removed]",
      "text/plain": [
       "<Figure size 432x288 with 1 Axes>"
      ]
     },
     "metadata": {
      "needs_background": "light"
     },
     "output_type": "display_data"
    }
   ],
   "source": [
    "final = crop_resize_clean('sample_class_2/208686.jpg')\n",
    "\n",
    "plt.imshow(final)"
   ]
  },
  {
   "cell_type": "code",
   "execution_count": 78,
   "metadata": {},
   "outputs": [
    {
     "data": {
      "text/html": [
       "<div>\n",
       "<style scoped>\n",
       "    .dataframe tbody tr th:only-of-type {\n",
       "        vertical-align: middle;\n",
       "    }\n",
       "\n",
       "    .dataframe tbody tr th {\n",
       "        vertical-align: top;\n",
       "    }\n",
       "\n",
       "    .dataframe thead th {\n",
       "        text-align: right;\n",
       "    }\n",
       "</style>\n",
       "<table border=\"1\" class=\"dataframe\">\n",
       "  <thead>\n",
       "    <tr style=\"text-align: right;\">\n",
       "      <th></th>\n",
       "      <th>GalaxyID</th>\n",
       "      <th>Class1.1</th>\n",
       "      <th>Class1.2</th>\n",
       "      <th>Class1.3</th>\n",
       "    </tr>\n",
       "  </thead>\n",
       "  <tbody>\n",
       "    <tr>\n",
       "      <th>0</th>\n",
       "      <td>100008</td>\n",
       "      <td>0.383147</td>\n",
       "      <td>0.616853</td>\n",
       "      <td>0.000000</td>\n",
       "    </tr>\n",
       "    <tr>\n",
       "      <th>1</th>\n",
       "      <td>100023</td>\n",
       "      <td>0.327001</td>\n",
       "      <td>0.663777</td>\n",
       "      <td>0.009222</td>\n",
       "    </tr>\n",
       "    <tr>\n",
       "      <th>2</th>\n",
       "      <td>100053</td>\n",
       "      <td>0.765717</td>\n",
       "      <td>0.177352</td>\n",
       "      <td>0.056931</td>\n",
       "    </tr>\n",
       "    <tr>\n",
       "      <th>3</th>\n",
       "      <td>100078</td>\n",
       "      <td>0.693377</td>\n",
       "      <td>0.238564</td>\n",
       "      <td>0.068059</td>\n",
       "    </tr>\n",
       "    <tr>\n",
       "      <th>4</th>\n",
       "      <td>100090</td>\n",
       "      <td>0.933839</td>\n",
       "      <td>0.000000</td>\n",
       "      <td>0.066161</td>\n",
       "    </tr>\n",
       "    <tr>\n",
       "      <th>...</th>\n",
       "      <td>...</td>\n",
       "      <td>...</td>\n",
       "      <td>...</td>\n",
       "      <td>...</td>\n",
       "    </tr>\n",
       "    <tr>\n",
       "      <th>61573</th>\n",
       "      <td>999948</td>\n",
       "      <td>0.510379</td>\n",
       "      <td>0.489621</td>\n",
       "      <td>0.000000</td>\n",
       "    </tr>\n",
       "    <tr>\n",
       "      <th>61574</th>\n",
       "      <td>999950</td>\n",
       "      <td>0.901216</td>\n",
       "      <td>0.098784</td>\n",
       "      <td>0.000000</td>\n",
       "    </tr>\n",
       "    <tr>\n",
       "      <th>61575</th>\n",
       "      <td>999958</td>\n",
       "      <td>0.202841</td>\n",
       "      <td>0.777376</td>\n",
       "      <td>0.019783</td>\n",
       "    </tr>\n",
       "    <tr>\n",
       "      <th>61576</th>\n",
       "      <td>999964</td>\n",
       "      <td>0.091000</td>\n",
       "      <td>0.909000</td>\n",
       "      <td>0.000000</td>\n",
       "    </tr>\n",
       "    <tr>\n",
       "      <th>61577</th>\n",
       "      <td>999967</td>\n",
       "      <td>0.767000</td>\n",
       "      <td>0.140000</td>\n",
       "      <td>0.093000</td>\n",
       "    </tr>\n",
       "  </tbody>\n",
       "</table>\n",
       "<p>61578 rows × 4 columns</p>\n",
       "</div>"
      ],
      "text/plain": [
       "       GalaxyID  Class1.1  Class1.2  Class1.3\n",
       "0        100008  0.383147  0.616853  0.000000\n",
       "1        100023  0.327001  0.663777  0.009222\n",
       "2        100053  0.765717  0.177352  0.056931\n",
       "3        100078  0.693377  0.238564  0.068059\n",
       "4        100090  0.933839  0.000000  0.066161\n",
       "...         ...       ...       ...       ...\n",
       "61573    999948  0.510379  0.489621  0.000000\n",
       "61574    999950  0.901216  0.098784  0.000000\n",
       "61575    999958  0.202841  0.777376  0.019783\n",
       "61576    999964  0.091000  0.909000  0.000000\n",
       "61577    999967  0.767000  0.140000  0.093000\n",
       "\n",
       "[61578 rows x 4 columns]"
      ]
     },
     "execution_count": 78,
     "metadata": {},
     "output_type": "execute_result"
    }
   ],
   "source": [
    "Y = pd.read_csv('training_solutions_rev1.csv').iloc[:,:4]\n",
    "Y"
   ]
  },
  {
   "cell_type": "code",
   "execution_count": null,
   "metadata": {},
   "outputs": [],
   "source": []
  },
  {
   "cell_type": "code",
   "execution_count": 74,
   "metadata": {},
   "outputs": [
    {
     "name": "stderr",
     "output_type": "stream",
     "text": [
      "Using TensorFlow backend.\n"
     ]
    }
   ],
   "source": [
    "from keras.preprocessing.image import ImageDataGenerator\n",
    "datagen = ImageDataGenerator()"
   ]
  },
  {
   "cell_type": "code",
   "execution_count": null,
   "metadata": {},
   "outputs": [],
   "source": []
  }
 ],
 "metadata": {
  "kernelspec": {
   "display_name": "Python 3",
   "language": "python",
   "name": "python3"
  },
  "language_info": {
   "codemirror_mode": {
    "name": "ipython",
    "version": 3
   },
   "file_extension": ".py",
   "mimetype": "text/x-python",
   "name": "python",
   "nbconvert_exporter": "python",
   "pygments_lexer": "ipython3",
   "version": "3.7.5"
  }
 },
 "nbformat": 4,
 "nbformat_minor": 2
}
