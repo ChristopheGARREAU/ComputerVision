{
 "cells": [
  {
   "cell_type": "code",
   "execution_count": 1,
   "metadata": {},
   "outputs": [],
   "source": [
    "import numpy as np\n",
    "from xgboost import XGBClassifier\n",
    "from sklearn.svm import SVC\n",
    "from sklearn.model_selection import train_test_split"
   ]
  },
  {
   "cell_type": "code",
   "execution_count": 2,
   "metadata": {},
   "outputs": [],
   "source": [
    "X = np.load('X.npy')\n",
    "Y = np.load('Y.npy')"
   ]
  },
  {
   "cell_type": "code",
   "execution_count": 12,
   "metadata": {},
   "outputs": [],
   "source": [
    "X_train, X_val, Y_train, Y_val = train_test_split(X, Y, test_size=0.3, random_state=42)"
   ]
  },
  {
   "cell_type": "code",
   "execution_count": 13,
   "metadata": {},
   "outputs": [
    {
     "name": "stdout",
     "output_type": "stream",
     "text": [
      "(1443, 64, 64)\n",
      "(619, 64, 64)\n",
      "(1443, 10)\n",
      "(619, 10)\n"
     ]
    }
   ],
   "source": [
    "print(X_train.shape)\n",
    "print(X_val.shape)\n",
    "print(Y_train.shape)\n",
    "print(Y_val.shape)"
   ]
  },
  {
   "cell_type": "code",
   "execution_count": 14,
   "metadata": {},
   "outputs": [
    {
     "name": "stdout",
     "output_type": "stream",
     "text": [
      "(1443, 4096)\n"
     ]
    }
   ],
   "source": [
    "X_train_reshaped=X_train.reshape(X_train.shape[0], X_train.shape[1]*X_train.shape[2])\n",
    "print(X_train_reshaped.shape)"
   ]
  },
  {
   "cell_type": "code",
   "execution_count": 31,
   "metadata": {},
   "outputs": [
    {
     "name": "stdout",
     "output_type": "stream",
     "text": [
      "[1, 4, 1, 4, 9, 5, 1, 1, 9, 4, 7, 5, 5, 0, 8, 6, 4, 4, 4, 2, 2, 6, 3, 7, 7, 6, 4, 4, 4, 1, 8, 6, 3, 2, 4, 7, 8, 7, 6, 6, 7, 4, 4, 6, 8, 2, 5, 4, 7, 4, 5, 2, 6, 1, 9, 1, 9, 1, 2, 9, 8, 1, 8, 7, 0, 3, 7, 9, 7, 1, 2, 6, 5, 8, 6, 6, 5, 9, 0, 9, 5, 2, 2, 0, 7, 3, 8, 1, 7, 8, 0, 8, 3, 1, 0, 7, 4, 4, 7, 2, 2, 7, 1, 8, 0, 6, 4, 5, 7, 8, 4, 4, 4, 9, 8, 1, 2, 8, 5, 4, 4, 0, 6, 6, 0, 7, 9, 2, 9, 0, 7, 3, 3, 1, 0, 7, 6, 6, 0, 4, 2, 7, 0, 2, 6, 1, 7, 2, 7, 5, 3, 0, 4, 3, 7, 1, 6, 7, 5, 1, 2, 8, 3, 8, 5, 1, 3, 0, 9, 1, 0, 0, 2, 0, 8, 7, 6, 7, 6, 8, 2, 8, 0, 6, 8, 5, 4, 5, 9, 2, 1, 7, 9, 6, 1, 9, 8, 2, 5, 1, 4, 3, 7, 7, 1, 2, 9, 5, 1, 2, 3, 1, 2, 7, 5, 4, 0, 7, 3, 4, 6, 9, 3, 7, 9, 4, 7, 1, 4, 2, 6, 5, 1, 3, 5, 0, 0, 4, 9, 6, 7, 1, 9, 3, 7, 4, 6, 1, 4, 0, 7, 6, 9, 8, 7, 4, 6, 3, 6, 4, 8, 8, 7, 0, 8, 8, 1, 3, 5, 1, 3, 3, 4, 6, 0, 6, 4, 1, 5, 5, 8, 9, 4, 6, 3, 1, 5, 5, 7, 0, 9, 5, 5, 8, 4, 3, 2, 7, 7, 2, 0, 8, 4, 2, 0, 2, 4, 0, 2, 4, 9, 2, 9, 3, 5, 9, 6, 2, 2, 0, 1, 2, 5, 8, 6, 8, 9, 3, 9, 5, 5, 3, 0, 7, 9, 4, 2, 3, 7, 3, 6, 3, 1, 4, 7, 9, 0, 0, 9, 9, 0, 9, 2, 5, 9, 6, 7, 0, 3, 1, 8, 7, 9, 5, 9, 3, 4, 1, 9, 2, 4, 5, 9, 7, 8, 6, 9, 0, 2, 1, 8, 1, 8, 7, 9, 8, 9, 3, 8, 2, 9, 2, 9, 4, 6, 9, 5, 1, 7, 1, 7, 8, 8, 0, 0, 9, 0, 1, 6, 7, 4, 1, 4, 0, 1, 9, 6, 5, 2, 0, 8, 2, 1, 3, 8, 1, 6, 3, 4, 0, 2, 4, 2, 5, 8, 8, 0, 5, 2, 0, 6, 2, 1, 2, 1, 4, 5, 5, 5, 4, 7, 5, 9, 3, 6, 1, 3, 7, 2, 2, 9, 3, 6, 5, 1, 5, 6, 9, 0, 0, 0, 2, 3, 5, 0, 6, 7, 5, 9, 9, 6, 8, 1, 8, 5, 4, 5, 6, 6, 5, 3, 1, 0, 0, 7, 2, 9, 0, 3, 1, 3, 3, 0, 3, 5, 1, 0, 7, 0, 1, 5, 1, 1, 6, 5, 3, 5, 5, 9, 7, 8, 2, 1, 3, 7, 2, 7, 2, 9, 5, 6, 0, 6, 0, 3, 1, 5, 1, 6, 6, 4, 6, 0, 0, 0, 1, 0, 2, 0, 9, 7, 0, 0, 4, 3, 0, 0, 7, 9, 2, 8, 4, 0, 1, 2, 5, 4, 6, 0, 3, 3, 6, 0, 2, 0, 9, 6, 4, 8, 8, 8, 3, 4, 1, 1, 7, 1, 5, 0, 8, 3, 1, 9, 9, 0, 0, 8, 8, 2, 3, 7, 7, 0, 8, 5, 5, 6, 0, 6, 3, 7, 5, 3, 7, 8, 9, 7, 1, 9, 7, 8, 0, 3, 6, 4, 6, 0, 4, 6, 1, 0, 5, 1, 7, 5, 9, 7, 8, 6, 0, 2, 3, 1, 4, 1, 4, 4, 8, 7, 2, 6, 8, 5, 4, 2, 3, 9, 4, 3, 2, 5, 3, 8, 6, 5, 5, 1, 3, 7, 1, 4, 3, 3, 5, 4, 7, 7, 8, 7, 6, 7, 8, 6, 9, 8, 6, 4, 0, 5, 3, 6, 3, 9, 0, 0, 5, 4, 8, 4, 5, 2, 8, 1, 1, 4, 4, 4, 9, 2, 8, 7, 7, 3, 0, 5, 0, 3, 0, 9, 5, 4, 8, 9, 5, 5, 6, 9, 9, 2, 1, 5, 0, 5, 7, 9, 4, 0, 7, 5, 6, 9, 4, 2, 4, 5, 5, 2, 3, 3, 1, 3, 9, 8, 5, 7, 8, 8, 4, 5, 5, 0, 7, 2, 5, 5, 4, 4, 5, 6, 6, 7, 4, 8, 9, 4, 3, 3, 2, 1, 0, 8, 2, 1, 0, 5, 8, 7, 7, 6, 2, 0, 6, 4, 7, 9, 1, 6, 0, 7, 3, 9, 9, 4, 7, 3, 0, 4, 2, 6, 3, 3, 9, 8, 3, 6, 2, 5, 4, 7, 3, 0, 2, 9, 4, 2, 9, 0, 4, 9, 9, 3, 2, 6, 6, 0, 1, 1, 5, 5, 6, 8, 7, 3, 8, 9, 3, 4, 0, 4, 8, 1, 1, 9, 5, 2, 6, 4, 3, 8, 3, 6, 5, 7, 5, 2, 0, 1, 6, 6, 8, 1, 2, 2, 1, 4, 5, 8, 4, 9, 0, 4, 5, 5, 8, 6, 3, 9, 4, 7, 0, 5, 8, 9, 3, 2, 7, 3, 5, 6, 8, 6, 2, 2, 5, 5, 3, 2, 3, 7, 9, 8, 5, 3, 0, 7, 3, 8, 5, 4, 0, 3, 9, 3, 1, 1, 3, 4, 4, 4, 0, 6, 9, 4, 4, 3, 5, 5, 0, 4, 8, 1, 7, 9, 2, 4, 5, 4, 9, 1, 6, 7, 1, 0, 5, 5, 2, 0, 7, 3, 4, 6, 5, 5, 2, 4, 3, 1, 2, 1, 0, 3, 0, 4, 9, 4, 9, 1, 4, 2, 3, 9, 5, 5, 1, 6, 5, 3, 8, 2, 0, 4, 4, 6, 3, 3, 7, 2, 9, 0, 0, 6, 6, 9, 4, 4, 9, 0, 5, 4, 9, 8, 2, 0, 1, 2, 8, 8, 8, 8, 2, 6, 5, 2, 0, 6, 5, 0, 7, 5, 9, 2, 7, 3, 8, 4, 8, 7, 4, 9, 1, 7, 3, 9, 1, 0, 8, 2, 9, 6, 1, 0, 3, 5, 6, 2, 8, 9, 3, 9, 3, 8, 5, 5, 6, 7, 8, 6, 9, 3, 7, 0, 4, 5, 3, 8, 4, 4, 0, 9, 8, 2, 5, 6, 8, 0, 7, 7, 8, 2, 8, 8, 5, 0, 0, 1, 9, 1, 9, 8, 5, 8, 0, 4, 9, 5, 2, 8, 1, 6, 4, 8, 4, 7, 9, 3, 1, 8, 1, 7, 6, 6, 0, 2, 3, 4, 9, 2, 8, 4, 2, 8, 9, 5, 0, 8, 9, 1, 4, 9, 3, 6, 2, 6, 0, 5, 5, 2, 0, 3, 7, 4, 0, 7, 4, 1, 1, 9, 1, 0, 5, 0, 7, 4, 1, 6, 8, 9, 9, 8, 9, 5, 8, 6, 1, 8, 8, 4, 7, 1, 3, 0, 0, 3, 9, 4, 7, 7, 8, 6, 6, 7, 6, 9, 2, 7, 5, 8, 6, 9, 7, 8, 6, 3, 9, 6, 8, 8, 1, 3, 6, 7, 3, 6, 6, 8, 4, 3, 3, 6, 6, 6, 6, 9, 6, 7, 6, 7, 8, 6, 8, 9, 9, 7, 9, 3, 3, 4, 9, 2, 3, 2, 8, 5, 6, 8, 9, 5, 2, 5, 2, 5, 8, 3, 9, 6, 2, 8, 0, 4, 2, 6, 3, 4, 7, 8, 7, 4, 7, 9, 5, 1, 1, 3, 4, 1, 3, 9, 6, 5, 8, 3, 9, 2, 8, 4, 7, 3, 9, 3, 0, 3, 8, 7, 1, 2, 5, 5, 4, 3, 9, 0, 0, 5, 0, 4, 1, 7, 8, 1, 1, 2, 8, 1, 2, 7, 5, 5, 7, 3, 5, 6, 2, 9, 9, 0, 8, 0, 5, 5, 2, 1, 0, 3, 1, 9, 3, 5, 4, 1, 8, 3, 8, 1, 8, 4, 6, 8, 7, 2, 9, 3, 9, 1, 4, 0, 0, 7, 3, 1, 3, 7, 8, 8, 5, 2, 6, 4, 4, 6, 9, 7, 9, 5, 1, 0, 9, 3, 2, 7, 7, 9, 6, 0, 6, 4, 2, 6, 3, 1, 0, 1, 2, 1, 6, 0, 4, 0, 3, 8, 7, 5, 7, 4, 6, 7, 9, 2, 9, 3, 4, 0, 8, 4, 3, 7, 8, 2, 5, 2, 7, 4, 3, 1, 0, 6, 2, 5, 1, 4, 5, 7, 3, 8, 0, 7, 1, 6, 2, 7, 5, 5, 6, 4]\n"
     ]
    }
   ],
   "source": [
    "Y_train_reshaped = [list(y).index(1) for y in Y_train]\n",
    "print(Y_train_reshaped)"
   ]
  },
  {
   "cell_type": "code",
   "execution_count": 17,
   "metadata": {},
   "outputs": [],
   "source": [
    "model=XGBClassifier()"
   ]
  },
  {
   "cell_type": "code",
   "execution_count": 18,
   "metadata": {},
   "outputs": [
    {
     "data": {
      "text/plain": [
       "XGBClassifier(base_score=0.5, booster='gbtree', colsample_bylevel=1,\n",
       "              colsample_bynode=1, colsample_bytree=1, gamma=0,\n",
       "              learning_rate=0.1, max_delta_step=0, max_depth=3,\n",
       "              min_child_weight=1, missing=None, n_estimators=100, n_jobs=1,\n",
       "              nthread=None, objective='multi:softprob', random_state=0,\n",
       "              reg_alpha=0, reg_lambda=1, scale_pos_weight=1, seed=None,\n",
       "              silent=None, subsample=1, verbosity=1)"
      ]
     },
     "execution_count": 18,
     "metadata": {},
     "output_type": "execute_result"
    }
   ],
   "source": [
    "model.fit(X_train_reshaped, Y_train_reshaped)"
   ]
  },
  {
   "cell_type": "code",
   "execution_count": 19,
   "metadata": {},
   "outputs": [],
   "source": [
    "X_val_reshaped=X_val.reshape(X_val.shape[0], X_val.shape[1]*X_val.shape[2])\n",
    "Y_val_reshaped = [list(y).index(1) for y in Y_val]"
   ]
  },
  {
   "cell_type": "code",
   "execution_count": 20,
   "metadata": {},
   "outputs": [],
   "source": [
    "predictions = model.predict(X_val_reshaped)"
   ]
  },
  {
   "cell_type": "code",
   "execution_count": 21,
   "metadata": {},
   "outputs": [
    {
     "data": {
      "text/plain": [
       "array([2, 9, 3, 9, 0, 2, 3, 2, 6, 7, 4, 9, 7, 1, 2, 8, 0, 5, 0, 7, 0, 2,\n",
       "       3, 1, 9, 2, 7, 3, 5, 9, 6, 5, 4, 6, 8, 6, 3, 1, 9, 2, 8, 8, 4, 1,\n",
       "       1, 2, 5, 7, 8, 9, 1, 9, 6, 2, 1, 0, 2, 8, 2, 8, 2, 7, 2, 8, 5, 9,\n",
       "       2, 2, 6, 4, 1, 1, 2, 7, 4, 9, 9, 4, 3, 8, 8, 9, 2, 0, 0, 0, 2, 4,\n",
       "       1, 4, 5, 4, 7, 4, 7, 4, 2, 2, 8, 9, 4, 0, 9, 0, 2, 1, 8, 2, 8, 7,\n",
       "       5, 8, 5, 3, 6, 5, 3, 1, 5, 5, 2, 0, 4, 5, 8, 2, 6, 5, 1, 0, 3, 1,\n",
       "       9, 9, 8, 3, 3, 9, 5, 2, 2, 2, 2, 6, 6, 1, 6, 2, 4, 4, 9, 2, 0, 2,\n",
       "       6, 2, 2, 6, 4, 1, 7, 4, 9, 8, 5, 2, 4, 7, 6, 9, 3, 7, 2, 9, 1, 6,\n",
       "       7, 6, 0, 2, 1, 7, 4, 4, 1, 6, 6, 2, 4, 2, 8, 6, 8, 3, 2, 0, 8, 8,\n",
       "       8, 5, 5, 7, 0, 8, 4, 4, 2, 5, 8, 8, 7, 0, 2, 8, 5, 3, 4, 3, 5, 0,\n",
       "       6, 4, 3, 1, 7, 6, 4, 1, 7, 5, 8, 4, 7, 6, 2, 1, 2, 4, 6, 3, 5, 3,\n",
       "       1, 0, 9, 0, 1, 2, 3, 7, 5, 4, 2, 0, 0, 4, 8, 5, 9, 2, 4, 7, 7, 8,\n",
       "       3, 7, 3, 7, 7, 1, 1, 1, 3, 9, 5, 7, 7, 3, 6, 7, 5, 3, 6, 9, 1, 9,\n",
       "       2, 9, 3, 3, 0, 0, 0, 8, 0, 6, 5, 2, 1, 0, 0, 8, 3, 0, 8, 3, 2, 9,\n",
       "       0, 9, 6, 6, 1, 9, 7, 4, 6, 8, 0, 6, 5, 6, 0, 0, 3, 2, 8, 7, 3, 1,\n",
       "       0, 1, 1, 2, 2, 0, 9, 7, 6, 4, 8, 6, 5, 6, 5, 9, 2, 5, 5, 7, 4, 7,\n",
       "       7, 3, 3, 1, 0, 7, 0, 1, 1, 9, 1, 9, 9, 7, 5, 4, 0, 3, 5, 3, 3, 6,\n",
       "       1, 5, 4, 0, 9, 4, 7, 8, 1, 4, 6, 3, 2, 9, 9, 7, 6, 0, 2, 8, 6, 8,\n",
       "       0, 8, 1, 6, 2, 0, 5, 2, 1, 2, 0, 5, 3, 2, 4, 3, 4, 5, 9, 8, 6, 8,\n",
       "       2, 3, 3, 7, 6, 7, 2, 4, 4, 8, 8, 4, 4, 4, 2, 4, 3, 7, 7, 8, 0, 1,\n",
       "       2, 3, 8, 6, 1, 7, 5, 8, 4, 8, 2, 2, 7, 2, 1, 6, 6, 7, 8, 3, 2, 0,\n",
       "       8, 1, 0, 0, 8, 8, 6, 7, 3, 9, 5, 4, 2, 7, 4, 3, 4, 1, 2, 8, 6, 7,\n",
       "       1, 3, 3, 1, 6, 8, 2, 0, 7, 7, 1, 3, 9, 4, 3, 7, 4, 0, 6, 0, 4, 6,\n",
       "       9, 5, 1, 3, 1, 3, 1, 1, 7, 2, 1, 0, 2, 7, 8, 7, 8, 1, 7, 1, 2, 7,\n",
       "       6, 4, 5, 2, 9, 9, 7, 6, 7, 2, 8, 2, 6, 3, 0, 0, 5, 4, 7, 7, 4, 3,\n",
       "       1, 8, 8, 4, 4, 1, 3, 8, 3, 2, 1, 3, 5, 6, 5, 5, 2, 3, 9, 9, 2, 6,\n",
       "       5, 2, 3, 0, 3, 4, 5, 7, 4, 3, 8, 9, 3, 8, 3, 0, 1, 9, 0, 4, 7, 9,\n",
       "       0, 9, 4, 7, 4, 4, 4, 7, 6, 8, 2, 0, 6, 6, 5, 4, 2, 5, 6, 9, 3, 9,\n",
       "       3, 3, 4])"
      ]
     },
     "execution_count": 21,
     "metadata": {},
     "output_type": "execute_result"
    }
   ],
   "source": [
    "predictions"
   ]
  },
  {
   "cell_type": "code",
   "execution_count": 23,
   "metadata": {},
   "outputs": [
    {
     "name": "stdout",
     "output_type": "stream",
     "text": [
      "Nombres de prédictions Valide : 460\n",
      "Nombres de mauvaise prédictions : 159\n"
     ]
    }
   ],
   "source": [
    "predict_ok = []\n",
    "true = 0\n",
    "false = 0\n",
    "for i in range(len(predictions)):\n",
    "    if predictions[i] == Y_val_reshaped[i]:\n",
    "        p = True \n",
    "        true += 1\n",
    "        \n",
    "    else:\n",
    "        p = False\n",
    "        false += 1\n",
    "    \n",
    "    predict_ok.append(p)\n",
    "        \n",
    "        \n",
    "predict_ok\n",
    "print('Nombres de prédictions Valide :',true)\n",
    "print('Nombres de mauvaise prédictions :',false)"
   ]
  },
  {
   "cell_type": "code",
   "execution_count": 25,
   "metadata": {},
   "outputs": [
    {
     "data": {
      "text/plain": [
       "array([[50,  0,  1,  0,  0,  2,  2,  0,  0,  0],\n",
       "       [ 2, 55,  0,  2,  6,  0,  4,  0,  1,  0],\n",
       "       [ 0,  0, 56,  1,  5,  4,  5,  0,  5,  0],\n",
       "       [ 1,  1,  5, 44,  1,  1,  2,  0,  8,  0],\n",
       "       [ 0,  3,  0,  1, 44,  2,  0,  0,  2,  0],\n",
       "       [ 0,  0,  6,  0,  6, 38,  4,  0,  1,  0],\n",
       "       [ 3,  1,  7, 10,  0,  2, 37,  1,  1,  3],\n",
       "       [ 1,  0,  0,  0,  0,  0,  0, 52,  6,  3],\n",
       "       [ 0,  0,  7,  7,  5,  0,  2,  1, 38,  0],\n",
       "       [ 1,  0,  0,  0,  0,  1,  2, 11,  0, 46]], dtype=int64)"
      ]
     },
     "execution_count": 25,
     "metadata": {},
     "output_type": "execute_result"
    }
   ],
   "source": [
    "from sklearn.metrics import confusion_matrix\n",
    "import seaborn as sn\n",
    "import pandas as pd\n",
    "import matplotlib.pyplot as plt\n",
    "\n",
    "matrix_conf = confusion_matrix(list(Y_val_reshaped), predictions)\n",
    "matrix_conf"
   ]
  },
  {
   "cell_type": "code",
   "execution_count": 26,
   "metadata": {},
   "outputs": [
    {
     "data": {
      "text/html": [
       "<div>\n",
       "<style scoped>\n",
       "    .dataframe tbody tr th:only-of-type {\n",
       "        vertical-align: middle;\n",
       "    }\n",
       "\n",
       "    .dataframe tbody tr th {\n",
       "        vertical-align: top;\n",
       "    }\n",
       "\n",
       "    .dataframe thead th {\n",
       "        text-align: right;\n",
       "    }\n",
       "</style>\n",
       "<table border=\"1\" class=\"dataframe\">\n",
       "  <thead>\n",
       "    <tr style=\"text-align: right;\">\n",
       "      <th></th>\n",
       "      <th>0</th>\n",
       "      <th>1</th>\n",
       "      <th>2</th>\n",
       "      <th>3</th>\n",
       "      <th>4</th>\n",
       "      <th>5</th>\n",
       "      <th>6</th>\n",
       "      <th>7</th>\n",
       "      <th>8</th>\n",
       "      <th>9</th>\n",
       "    </tr>\n",
       "  </thead>\n",
       "  <tbody>\n",
       "    <tr>\n",
       "      <th>0</th>\n",
       "      <td>50</td>\n",
       "      <td>0</td>\n",
       "      <td>1</td>\n",
       "      <td>0</td>\n",
       "      <td>0</td>\n",
       "      <td>2</td>\n",
       "      <td>2</td>\n",
       "      <td>0</td>\n",
       "      <td>0</td>\n",
       "      <td>0</td>\n",
       "    </tr>\n",
       "    <tr>\n",
       "      <th>1</th>\n",
       "      <td>2</td>\n",
       "      <td>55</td>\n",
       "      <td>0</td>\n",
       "      <td>2</td>\n",
       "      <td>6</td>\n",
       "      <td>0</td>\n",
       "      <td>4</td>\n",
       "      <td>0</td>\n",
       "      <td>1</td>\n",
       "      <td>0</td>\n",
       "    </tr>\n",
       "    <tr>\n",
       "      <th>2</th>\n",
       "      <td>0</td>\n",
       "      <td>0</td>\n",
       "      <td>56</td>\n",
       "      <td>1</td>\n",
       "      <td>5</td>\n",
       "      <td>4</td>\n",
       "      <td>5</td>\n",
       "      <td>0</td>\n",
       "      <td>5</td>\n",
       "      <td>0</td>\n",
       "    </tr>\n",
       "    <tr>\n",
       "      <th>3</th>\n",
       "      <td>1</td>\n",
       "      <td>1</td>\n",
       "      <td>5</td>\n",
       "      <td>44</td>\n",
       "      <td>1</td>\n",
       "      <td>1</td>\n",
       "      <td>2</td>\n",
       "      <td>0</td>\n",
       "      <td>8</td>\n",
       "      <td>0</td>\n",
       "    </tr>\n",
       "    <tr>\n",
       "      <th>4</th>\n",
       "      <td>0</td>\n",
       "      <td>3</td>\n",
       "      <td>0</td>\n",
       "      <td>1</td>\n",
       "      <td>44</td>\n",
       "      <td>2</td>\n",
       "      <td>0</td>\n",
       "      <td>0</td>\n",
       "      <td>2</td>\n",
       "      <td>0</td>\n",
       "    </tr>\n",
       "    <tr>\n",
       "      <th>5</th>\n",
       "      <td>0</td>\n",
       "      <td>0</td>\n",
       "      <td>6</td>\n",
       "      <td>0</td>\n",
       "      <td>6</td>\n",
       "      <td>38</td>\n",
       "      <td>4</td>\n",
       "      <td>0</td>\n",
       "      <td>1</td>\n",
       "      <td>0</td>\n",
       "    </tr>\n",
       "    <tr>\n",
       "      <th>6</th>\n",
       "      <td>3</td>\n",
       "      <td>1</td>\n",
       "      <td>7</td>\n",
       "      <td>10</td>\n",
       "      <td>0</td>\n",
       "      <td>2</td>\n",
       "      <td>37</td>\n",
       "      <td>1</td>\n",
       "      <td>1</td>\n",
       "      <td>3</td>\n",
       "    </tr>\n",
       "    <tr>\n",
       "      <th>7</th>\n",
       "      <td>1</td>\n",
       "      <td>0</td>\n",
       "      <td>0</td>\n",
       "      <td>0</td>\n",
       "      <td>0</td>\n",
       "      <td>0</td>\n",
       "      <td>0</td>\n",
       "      <td>52</td>\n",
       "      <td>6</td>\n",
       "      <td>3</td>\n",
       "    </tr>\n",
       "    <tr>\n",
       "      <th>8</th>\n",
       "      <td>0</td>\n",
       "      <td>0</td>\n",
       "      <td>7</td>\n",
       "      <td>7</td>\n",
       "      <td>5</td>\n",
       "      <td>0</td>\n",
       "      <td>2</td>\n",
       "      <td>1</td>\n",
       "      <td>38</td>\n",
       "      <td>0</td>\n",
       "    </tr>\n",
       "    <tr>\n",
       "      <th>9</th>\n",
       "      <td>1</td>\n",
       "      <td>0</td>\n",
       "      <td>0</td>\n",
       "      <td>0</td>\n",
       "      <td>0</td>\n",
       "      <td>1</td>\n",
       "      <td>2</td>\n",
       "      <td>11</td>\n",
       "      <td>0</td>\n",
       "      <td>46</td>\n",
       "    </tr>\n",
       "  </tbody>\n",
       "</table>\n",
       "</div>"
      ],
      "text/plain": [
       "    0   1   2   3   4   5   6   7   8   9\n",
       "0  50   0   1   0   0   2   2   0   0   0\n",
       "1   2  55   0   2   6   0   4   0   1   0\n",
       "2   0   0  56   1   5   4   5   0   5   0\n",
       "3   1   1   5  44   1   1   2   0   8   0\n",
       "4   0   3   0   1  44   2   0   0   2   0\n",
       "5   0   0   6   0   6  38   4   0   1   0\n",
       "6   3   1   7  10   0   2  37   1   1   3\n",
       "7   1   0   0   0   0   0   0  52   6   3\n",
       "8   0   0   7   7   5   0   2   1  38   0\n",
       "9   1   0   0   0   0   1   2  11   0  46"
      ]
     },
     "execution_count": 26,
     "metadata": {},
     "output_type": "execute_result"
    }
   ],
   "source": [
    "df_cm = pd.DataFrame(matrix_conf, range(10),\n",
    "                  range(10))\n",
    "df_cm"
   ]
  },
  {
   "cell_type": "code",
   "execution_count": 27,
   "metadata": {},
   "outputs": [
    {
     "data": {
      "image/png": "[encoded data removed]",
      "text/plain": [
       "<Figure size 432x288 with 2 Axes>"
      ]
     },
     "metadata": {},
     "output_type": "display_data"
    }
   ],
   "source": [
    "#plt.figure(figsize = (10,10))\n",
    "sn.set(font_scale=1.4)#for label size\n",
    "sn.heatmap(matrix_conf, annot=True,annot_kws={\"size\": 16})# font size\n",
    "\n",
    "plt.show()"
   ]
  },
  {
   "cell_type": "code",
   "execution_count": 29,
   "metadata": {},
   "outputs": [
    {
     "name": "stdout",
     "output_type": "stream",
     "text": [
      "0.7431340872374798\n"
     ]
    }
   ],
   "source": [
    "from sklearn.metrics import accuracy_score\n",
    "\n",
    "print (accuracy_score(Y_val_reshaped, predictions))"
   ]
  }
 ],
 "metadata": {
  "kernelspec": {
   "display_name": "Python 3",
   "language": "python",
   "name": "python3"
  },
  "language_info": {
   "codemirror_mode": {
    "name": "ipython",
    "version": 3
   },
   "file_extension": ".py",
   "mimetype": "text/x-python",
   "name": "python",
   "nbconvert_exporter": "python",
   "pygments_lexer": "ipython3",
   "version": "3.6.9"
  }
 },
 "nbformat": 4,
 "nbformat_minor": 2
}
